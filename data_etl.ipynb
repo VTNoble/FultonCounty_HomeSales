{
 "cells": [
  {
   "cell_type": "markdown",
   "id": "46a44174",
   "metadata": {},
   "source": [
    "## Note: this notebook was used for development. A script file has been created to use for implementation."
   ]
  },
  {
   "cell_type": "code",
   "execution_count": 1,
   "id": "c306632f",
   "metadata": {},
   "outputs": [],
   "source": [
    "# dependencies\n",
    "import pandas as pd\n",
    "from sqlalchemy import create_engine"
   ]
  },
  {
   "cell_type": "markdown",
   "id": "c72f94d9",
   "metadata": {},
   "source": [
    "### Store CSV into DataFrame"
   ]
  },
  {
   "cell_type": "code",
   "execution_count": 2,
   "id": "37332578",
   "metadata": {},
   "outputs": [
    {
     "data": {
      "text/html": [
       "<div>\n",
       "<style scoped>\n",
       "    .dataframe tbody tr th:only-of-type {\n",
       "        vertical-align: middle;\n",
       "    }\n",
       "\n",
       "    .dataframe tbody tr th {\n",
       "        vertical-align: top;\n",
       "    }\n",
       "\n",
       "    .dataframe thead th {\n",
       "        text-align: right;\n",
       "    }\n",
       "</style>\n",
       "<table border=\"1\" class=\"dataframe\">\n",
       "  <thead>\n",
       "    <tr style=\"text-align: right;\">\n",
       "      <th></th>\n",
       "      <th>Address</th>\n",
       "      <th>County</th>\n",
       "      <th>State</th>\n",
       "      <th>Sale Date</th>\n",
       "      <th>Sale Year</th>\n",
       "      <th>Sale Month</th>\n",
       "      <th>Sale Price</th>\n",
       "    </tr>\n",
       "  </thead>\n",
       "  <tbody>\n",
       "    <tr>\n",
       "      <th>0</th>\n",
       "      <td>785 VEDADO WAY NE</td>\n",
       "      <td>Fulton County</td>\n",
       "      <td>Georgia</td>\n",
       "      <td>1/3/17</td>\n",
       "      <td>2017</td>\n",
       "      <td>Jan</td>\n",
       "      <td>610000</td>\n",
       "    </tr>\n",
       "    <tr>\n",
       "      <th>1</th>\n",
       "      <td>440 JON SCOTT DR</td>\n",
       "      <td>Fulton County</td>\n",
       "      <td>Georgia</td>\n",
       "      <td>1/3/17</td>\n",
       "      <td>2017</td>\n",
       "      <td>Jan</td>\n",
       "      <td>215000</td>\n",
       "    </tr>\n",
       "    <tr>\n",
       "      <th>2</th>\n",
       "      <td>497 KING RD NW</td>\n",
       "      <td>Fulton County</td>\n",
       "      <td>Georgia</td>\n",
       "      <td>1/3/17</td>\n",
       "      <td>2017</td>\n",
       "      <td>Jan</td>\n",
       "      <td>4362991</td>\n",
       "    </tr>\n",
       "    <tr>\n",
       "      <th>3</th>\n",
       "      <td>1350 ROSWELL MANOR CIR</td>\n",
       "      <td>Fulton County</td>\n",
       "      <td>Georgia</td>\n",
       "      <td>1/3/17</td>\n",
       "      <td>2017</td>\n",
       "      <td>Jan</td>\n",
       "      <td>437500</td>\n",
       "    </tr>\n",
       "    <tr>\n",
       "      <th>4</th>\n",
       "      <td>7784 GEORGETOWN CHASE</td>\n",
       "      <td>Fulton County</td>\n",
       "      <td>Georgia</td>\n",
       "      <td>1/3/17</td>\n",
       "      <td>2017</td>\n",
       "      <td>Jan</td>\n",
       "      <td>455500</td>\n",
       "    </tr>\n",
       "  </tbody>\n",
       "</table>\n",
       "</div>"
      ],
      "text/plain": [
       "                  Address         County    State Sale Date  Sale Year  \\\n",
       "0       785 VEDADO WAY NE  Fulton County  Georgia    1/3/17       2017   \n",
       "1        440 JON SCOTT DR  Fulton County  Georgia    1/3/17       2017   \n",
       "2          497 KING RD NW  Fulton County  Georgia    1/3/17       2017   \n",
       "3  1350 ROSWELL MANOR CIR  Fulton County  Georgia    1/3/17       2017   \n",
       "4   7784 GEORGETOWN CHASE  Fulton County  Georgia    1/3/17       2017   \n",
       "\n",
       "  Sale Month  Sale Price  \n",
       "0        Jan      610000  \n",
       "1        Jan      215000  \n",
       "2        Jan     4362991  \n",
       "3        Jan      437500  \n",
       "4        Jan      455500  "
      ]
     },
     "execution_count": 2,
     "metadata": {},
     "output_type": "execute_result"
    }
   ],
   "source": [
    "csv_file = \"data/data_clean.csv\"\n",
    "df = pd.read_csv(csv_file)\n",
    "df.head()"
   ]
  },
  {
   "cell_type": "code",
   "execution_count": 3,
   "id": "0baa76ea",
   "metadata": {},
   "outputs": [
    {
     "data": {
      "text/plain": [
       "Address       object\n",
       "County        object\n",
       "State         object\n",
       "Sale Date     object\n",
       "Sale Year      int64\n",
       "Sale Month    object\n",
       "Sale Price     int64\n",
       "dtype: object"
      ]
     },
     "execution_count": 3,
     "metadata": {},
     "output_type": "execute_result"
    }
   ],
   "source": [
    "# check datatypes\n",
    "df.dtypes"
   ]
  },
  {
   "cell_type": "code",
   "execution_count": 4,
   "id": "6d2f717c",
   "metadata": {},
   "outputs": [
    {
     "data": {
      "text/html": [
       "<div>\n",
       "<style scoped>\n",
       "    .dataframe tbody tr th:only-of-type {\n",
       "        vertical-align: middle;\n",
       "    }\n",
       "\n",
       "    .dataframe tbody tr th {\n",
       "        vertical-align: top;\n",
       "    }\n",
       "\n",
       "    .dataframe thead th {\n",
       "        text-align: right;\n",
       "    }\n",
       "</style>\n",
       "<table border=\"1\" class=\"dataframe\">\n",
       "  <thead>\n",
       "    <tr style=\"text-align: right;\">\n",
       "      <th></th>\n",
       "      <th>address</th>\n",
       "      <th>county</th>\n",
       "      <th>state</th>\n",
       "      <th>sale_date</th>\n",
       "      <th>sale_year</th>\n",
       "      <th>sale_month</th>\n",
       "      <th>sale_price</th>\n",
       "    </tr>\n",
       "  </thead>\n",
       "  <tbody>\n",
       "    <tr>\n",
       "      <th>0</th>\n",
       "      <td>785 VEDADO WAY NE</td>\n",
       "      <td>Fulton County</td>\n",
       "      <td>Georgia</td>\n",
       "      <td>1/3/17</td>\n",
       "      <td>2017</td>\n",
       "      <td>Jan</td>\n",
       "      <td>610000</td>\n",
       "    </tr>\n",
       "    <tr>\n",
       "      <th>1</th>\n",
       "      <td>440 JON SCOTT DR</td>\n",
       "      <td>Fulton County</td>\n",
       "      <td>Georgia</td>\n",
       "      <td>1/3/17</td>\n",
       "      <td>2017</td>\n",
       "      <td>Jan</td>\n",
       "      <td>215000</td>\n",
       "    </tr>\n",
       "    <tr>\n",
       "      <th>2</th>\n",
       "      <td>497 KING RD NW</td>\n",
       "      <td>Fulton County</td>\n",
       "      <td>Georgia</td>\n",
       "      <td>1/3/17</td>\n",
       "      <td>2017</td>\n",
       "      <td>Jan</td>\n",
       "      <td>4362991</td>\n",
       "    </tr>\n",
       "    <tr>\n",
       "      <th>3</th>\n",
       "      <td>1350 ROSWELL MANOR CIR</td>\n",
       "      <td>Fulton County</td>\n",
       "      <td>Georgia</td>\n",
       "      <td>1/3/17</td>\n",
       "      <td>2017</td>\n",
       "      <td>Jan</td>\n",
       "      <td>437500</td>\n",
       "    </tr>\n",
       "    <tr>\n",
       "      <th>4</th>\n",
       "      <td>7784 GEORGETOWN CHASE</td>\n",
       "      <td>Fulton County</td>\n",
       "      <td>Georgia</td>\n",
       "      <td>1/3/17</td>\n",
       "      <td>2017</td>\n",
       "      <td>Jan</td>\n",
       "      <td>455500</td>\n",
       "    </tr>\n",
       "  </tbody>\n",
       "</table>\n",
       "</div>"
      ],
      "text/plain": [
       "                  address         county    state sale_date  sale_year  \\\n",
       "0       785 VEDADO WAY NE  Fulton County  Georgia    1/3/17       2017   \n",
       "1        440 JON SCOTT DR  Fulton County  Georgia    1/3/17       2017   \n",
       "2          497 KING RD NW  Fulton County  Georgia    1/3/17       2017   \n",
       "3  1350 ROSWELL MANOR CIR  Fulton County  Georgia    1/3/17       2017   \n",
       "4   7784 GEORGETOWN CHASE  Fulton County  Georgia    1/3/17       2017   \n",
       "\n",
       "  sale_month  sale_price  \n",
       "0        Jan      610000  \n",
       "1        Jan      215000  \n",
       "2        Jan     4362991  \n",
       "3        Jan      437500  \n",
       "4        Jan      455500  "
      ]
     },
     "execution_count": 4,
     "metadata": {},
     "output_type": "execute_result"
    }
   ],
   "source": [
    "# rename columns to remove capital letters and spaces\n",
    "cols = {'Address': 'address',\n",
    "        'County': 'county',\n",
    "        'State': 'state',\n",
    "        'Sale Date': 'sale_date',\n",
    "        'Sale Year': 'sale_year',\n",
    "        'Sale Month': 'sale_month',\n",
    "        'Sale Price': 'sale_price'}\n",
    "df.rename(columns = cols, inplace=True)\n",
    "\n",
    "# preview\n",
    "df.head()"
   ]
  },
  {
   "cell_type": "markdown",
   "id": "bc4b9eba",
   "metadata": {},
   "source": [
    "### Connect to local database"
   ]
  },
  {
   "cell_type": "code",
   "execution_count": 5,
   "id": "da0d4a2f",
   "metadata": {},
   "outputs": [],
   "source": [
    "protocol = 'postgresql'\n",
    "username = 'postgres'\n",
    "password = 'admin'\n",
    "host = 'localhost'\n",
    "database_name = 'fultoncounty_db'\n",
    "rds_connection_string = f'{protocol}://{username}:{password}@{host}/{database_name}'\n",
    "engine = create_engine(rds_connection_string)"
   ]
  },
  {
   "cell_type": "markdown",
   "id": "45e8cdd7",
   "metadata": {},
   "source": [
    "### Check for tables"
   ]
  },
  {
   "cell_type": "code",
   "execution_count": 6,
   "id": "b319286b",
   "metadata": {},
   "outputs": [
    {
     "name": "stderr",
     "output_type": "stream",
     "text": [
      "/Users/jasonnoble/opt/anaconda3/envs/PythonData/lib/python3.7/site-packages/ipykernel_launcher.py:1: SADeprecationWarning: The Engine.table_names() method is deprecated and will be removed in a future release.  Please refer to Inspector.get_table_names(). (deprecated since: 1.4)\n",
      "  \"\"\"Entry point for launching an IPython kernel.\n"
     ]
    },
    {
     "data": {
      "text/plain": [
       "['home_sales']"
      ]
     },
     "execution_count": 6,
     "metadata": {},
     "output_type": "execute_result"
    }
   ],
   "source": [
    "engine.table_names()"
   ]
  },
  {
   "cell_type": "markdown",
   "id": "66f07f06",
   "metadata": {},
   "source": [
    "### Use pandas to load merged DataFrame into database"
   ]
  },
  {
   "cell_type": "code",
   "execution_count": 7,
   "id": "f3c63217",
   "metadata": {},
   "outputs": [],
   "source": [
    "df.to_sql(name='home_sales', con=engine, if_exists='replace', index=False)"
   ]
  },
  {
   "cell_type": "markdown",
   "id": "531f883d",
   "metadata": {},
   "source": [
    "### Confirm data has been added by querying the table\n",
    "* NOTE: can also check using pgAdmin"
   ]
  },
  {
   "cell_type": "code",
   "execution_count": 8,
   "id": "a1199f88",
   "metadata": {},
   "outputs": [
    {
     "data": {
      "text/html": [
       "<div>\n",
       "<style scoped>\n",
       "    .dataframe tbody tr th:only-of-type {\n",
       "        vertical-align: middle;\n",
       "    }\n",
       "\n",
       "    .dataframe tbody tr th {\n",
       "        vertical-align: top;\n",
       "    }\n",
       "\n",
       "    .dataframe thead th {\n",
       "        text-align: right;\n",
       "    }\n",
       "</style>\n",
       "<table border=\"1\" class=\"dataframe\">\n",
       "  <thead>\n",
       "    <tr style=\"text-align: right;\">\n",
       "      <th></th>\n",
       "      <th>address</th>\n",
       "      <th>county</th>\n",
       "      <th>state</th>\n",
       "      <th>sale_date</th>\n",
       "      <th>sale_year</th>\n",
       "      <th>sale_month</th>\n",
       "      <th>sale_price</th>\n",
       "    </tr>\n",
       "  </thead>\n",
       "  <tbody>\n",
       "    <tr>\n",
       "      <th>0</th>\n",
       "      <td>785 VEDADO WAY NE</td>\n",
       "      <td>Fulton County</td>\n",
       "      <td>Georgia</td>\n",
       "      <td>1/3/17</td>\n",
       "      <td>2017</td>\n",
       "      <td>Jan</td>\n",
       "      <td>610000</td>\n",
       "    </tr>\n",
       "    <tr>\n",
       "      <th>1</th>\n",
       "      <td>440 JON SCOTT DR</td>\n",
       "      <td>Fulton County</td>\n",
       "      <td>Georgia</td>\n",
       "      <td>1/3/17</td>\n",
       "      <td>2017</td>\n",
       "      <td>Jan</td>\n",
       "      <td>215000</td>\n",
       "    </tr>\n",
       "    <tr>\n",
       "      <th>2</th>\n",
       "      <td>497 KING RD NW</td>\n",
       "      <td>Fulton County</td>\n",
       "      <td>Georgia</td>\n",
       "      <td>1/3/17</td>\n",
       "      <td>2017</td>\n",
       "      <td>Jan</td>\n",
       "      <td>4362991</td>\n",
       "    </tr>\n",
       "    <tr>\n",
       "      <th>3</th>\n",
       "      <td>1350 ROSWELL MANOR CIR</td>\n",
       "      <td>Fulton County</td>\n",
       "      <td>Georgia</td>\n",
       "      <td>1/3/17</td>\n",
       "      <td>2017</td>\n",
       "      <td>Jan</td>\n",
       "      <td>437500</td>\n",
       "    </tr>\n",
       "    <tr>\n",
       "      <th>4</th>\n",
       "      <td>7784 GEORGETOWN CHASE</td>\n",
       "      <td>Fulton County</td>\n",
       "      <td>Georgia</td>\n",
       "      <td>1/3/17</td>\n",
       "      <td>2017</td>\n",
       "      <td>Jan</td>\n",
       "      <td>455500</td>\n",
       "    </tr>\n",
       "  </tbody>\n",
       "</table>\n",
       "</div>"
      ],
      "text/plain": [
       "                  address         county    state sale_date  sale_year  \\\n",
       "0       785 VEDADO WAY NE  Fulton County  Georgia    1/3/17       2017   \n",
       "1        440 JON SCOTT DR  Fulton County  Georgia    1/3/17       2017   \n",
       "2          497 KING RD NW  Fulton County  Georgia    1/3/17       2017   \n",
       "3  1350 ROSWELL MANOR CIR  Fulton County  Georgia    1/3/17       2017   \n",
       "4   7784 GEORGETOWN CHASE  Fulton County  Georgia    1/3/17       2017   \n",
       "\n",
       "  sale_month  sale_price  \n",
       "0        Jan      610000  \n",
       "1        Jan      215000  \n",
       "2        Jan     4362991  \n",
       "3        Jan      437500  \n",
       "4        Jan      455500  "
      ]
     },
     "execution_count": 8,
     "metadata": {},
     "output_type": "execute_result"
    }
   ],
   "source": [
    "pd.read_sql_query('select * from home_sales', con=engine).head()"
   ]
  },
  {
   "cell_type": "code",
   "execution_count": null,
   "id": "6328a614",
   "metadata": {},
   "outputs": [],
   "source": []
  }
 ],
 "metadata": {
  "kernelspec": {
   "display_name": "PythonData",
   "language": "python",
   "name": "pythondata"
  },
  "language_info": {
   "codemirror_mode": {
    "name": "ipython",
    "version": 3
   },
   "file_extension": ".py",
   "mimetype": "text/x-python",
   "name": "python",
   "nbconvert_exporter": "python",
   "pygments_lexer": "ipython3",
   "version": "3.7.11"
  }
 },
 "nbformat": 4,
 "nbformat_minor": 5
}
